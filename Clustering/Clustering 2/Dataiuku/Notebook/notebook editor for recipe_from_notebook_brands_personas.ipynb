{
 "cells": [
  {
   "cell_type": "markdown",
   "metadata": {},
   "source": [
    "# Clustering Sectors_stores_joined"
   ]
  },
  {
   "cell_type": "markdown",
   "metadata": {},
   "source": [
    "### Notebook automatically generated from your model"
   ]
  },
  {
   "cell_type": "markdown",
   "metadata": {},
   "source": [
    "Model KMeans (k=7) (s2), trained on 2023-07-07 12:48:06."
   ]
  },
  {
   "cell_type": "markdown",
   "metadata": {},
   "source": [
    "#### Generated on 2023-07-12 08:46:47.379408"
   ]
  },
  {
   "cell_type": "markdown",
   "metadata": {},
   "source": [
    "Clustering\n",
    "This notebook will reproduce the steps for clustering the dataset Sectors_stores_joined."
   ]
  },
  {
   "cell_type": "markdown",
   "metadata": {},
   "source": [
    "#### Warning"
   ]
  },
  {
   "cell_type": "markdown",
   "metadata": {},
   "source": [
    "The goal of this notebook is to provide an easily readable and explainable code that reproduces the main steps\n",
    "of training the model. It is not complete: some of the preprocessing done by the DSS visual machine learning is not\n",
    "replicated in this notebook. This notebook will not give the same results and model performance as the DSS visual machine\n",
    "learning model."
   ]
  },
  {
   "cell_type": "markdown",
   "metadata": {},
   "source": [
    "Let's start with importing the required libs :"
   ]
  },
  {
   "cell_type": "code",
   "execution_count": 0,
   "metadata": {},
   "outputs": [],
   "source": [
    "import sys\n",
    "import dataiku\n",
    "import numpy as np\n",
    "import pandas as pd\n",
    "import sklearn as sk\n",
    "import dataiku.core.pandasutils as pdu\n",
    "from dataiku.doctor.preprocessing import PCA\n",
    "from collections import defaultdict, Counter"
   ]
  },
  {
   "cell_type": "markdown",
   "metadata": {},
   "source": [
    "And tune pandas display options:"
   ]
  },
  {
   "cell_type": "code",
   "execution_count": 0,
   "metadata": {},
   "outputs": [],
   "source": [
    "pd.set_option('display.width', 3000)\n",
    "pd.set_option('display.max_rows', 200)\n",
    "pd.set_option('display.max_columns', 200)"
   ]
  },
  {
   "cell_type": "markdown",
   "metadata": {},
   "source": [
    "#### Importing base data"
   ]
  },
  {
   "cell_type": "markdown",
   "metadata": {},
   "source": [
    "The first step is to get our machine learning dataset:"
   ]
  },
  {
   "cell_type": "code",
   "execution_count": 0,
   "metadata": {},
   "outputs": [],
   "source": [
    "# We apply the preparation that you defined. You should not modify this.\n",
    "preparation_steps = []\n",
    "preparation_output_schema = {'columns': [{'name': 'Sectors', 'type': 'string'}, {'name': 'cod_provincia', 'type': 'bigint'}, {'name': 'Provincia', 'type': 'string'}, {'name': 'Comunidad autónoma', 'type': 'string'}, {'name': 'Unnamed: 0.1', 'type': 'bigint'}, {'name': 'Unnamed: 0', 'type': 'bigint'}, {'name': 'cod_tienda', 'type': 'bigint'}, {'name': 'cod_semana', 'type': 'bigint'}, {'name': 'cod_producto', 'type': 'bigint'}, {'name': 'ventas_unidades', 'type': 'bigint'}, {'name': 'ventas_valor', 'type': 'double'}, {'name': 'ventas_volumen', 'type': 'bigint'}, {'name': 'numero_referencias', 'type': 'bigint'}, {'name': 'precio_real_unidades', 'type': 'double'}, {'name': 'precio_real_volumen', 'type': 'double'}, {'name': 'precio_tarifa_unidades', 'type': 'double'}, {'name': 'precio_tarifa_volumen', 'type': 'double'}, {'name': 'month', 'type': 'bigint'}, {'name': 'year', 'type': 'bigint'}, {'name': 'season', 'type': 'bigint'}, {'name': 'CATEGORY', 'type': 'string'}, {'name': 'VOLUME', 'type': 'bigint'}, {'name': 'UNITS', 'type': 'bigint'}, {'name': 'promocion_cabecera', 'type': 'bigint'}, {'name': 'promocion_descuento', 'type': 'bigint'}, {'name': 'promocion_expositor', 'type': 'bigint'}, {'name': 'promocion_extra_cantidad', 'type': 'bigint'}, {'name': 'promocion_folleto', 'type': 'bigint'}, {'name': 'promocion_isla', 'type': 'bigint'}, {'name': 'promocion_multicompra', 'type': 'bigint'}, {'name': 'promocion_regalo', 'type': 'bigint'}, {'name': 'factor_extrapolacion', 'type': 'string'}, {'name': 'cod_canal', 'type': 'bigint'}, {'name': 'postal_code', 'type': 'bigint'}, {'name': 'sales_surface_sqmeters', 'type': 'bigint'}, {'name': 'Canal', 'type': 'string'}, {'name': 'Channel', 'type': 'string'}, {'name': 'Lat', 'type': 'double'}, {'name': 'Lon', 'type': 'double'}, {'name': 'TEMP_MINIMA', 'type': 'double'}, {'name': 'TEMP_MAXIMA', 'type': 'double'}, {'name': 'TEMP_MEDIA', 'type': 'double'}, {'name': 'PRECIPITACION', 'type': 'double'}, {'name': 'national_holidays_2021', 'type': 'bigint'}, {'name': 'regional_holidays_2021', 'type': 'bigint'}, {'name': 'local_holidays_2021', 'type': 'bigint'}, {'name': 'national_holidays_2022', 'type': 'bigint'}, {'name': 'regional_holidays_2022', 'type': 'bigint'}, {'name': 'local_holidays_2022', 'type': 'bigint'}, {'name': 'national_holidays_2023', 'type': 'bigint'}, {'name': 'regional_holidays_2023', 'type': 'bigint'}, {'name': 'local_holidays_2023', 'type': 'bigint'}, {'name': 'SEGMENT_ARTISANS', 'type': 'bigint'}, {'name': 'SEGMENT_BLACK', 'type': 'bigint'}, {'name': 'SEGMENT_CELIACS', 'type': 'bigint'}, {'name': 'SEGMENT_EXTRA', 'type': 'bigint'}, {'name': 'SEGMENT_FLAVOURED', 'type': 'bigint'}, {'name': 'SEGMENT_IMPORT PREMIUM', 'type': 'bigint'}, {'name': 'SEGMENT_IMPORT SPECIAL', 'type': 'bigint'}, {'name': 'SEGMENT_NATIONAL', 'type': 'bigint'}, {'name': 'SEGMENT_WITHOUT ALCOHOL', 'type': 'bigint'}, {'name': 'SEGMENT_ZERO ALCOHOL', 'type': 'bigint'}, {'name': 'MANUFACTURER_MANUFACTURER 1', 'type': 'bigint'}, {'name': 'MANUFACTURER_MANUFACTURER 2', 'type': 'bigint'}, {'name': 'MANUFACTURER_MANUFACTURER 3', 'type': 'bigint'}, {'name': 'MANUFACTURER_MANUFACTURER 4', 'type': 'bigint'}, {'name': 'MANUFACTURER_MANUFACTURER 5', 'type': 'bigint'}, {'name': 'MANUFACTURER_MANUFACTURER 6', 'type': 'bigint'}, {'name': 'MANUFACTURER_OTHER MANUFACTURERS', 'type': 'bigint'}, {'name': 'BRAND_MAN 1 - BRAND 1', 'type': 'bigint'}, {'name': 'BRAND_MAN 1 - BRAND 2', 'type': 'bigint'}, {'name': 'BRAND_MAN 1 - OTHER BRANDS', 'type': 'bigint'}, {'name': 'BRAND_MAN 2 - BRAND 1', 'type': 'bigint'}, {'name': 'BRAND_MAN 2 - BRAND 2', 'type': 'bigint'}, {'name': 'BRAND_MAN 2 - BRAND 3', 'type': 'bigint'}, {'name': 'BRAND_MAN 2 - BRAND 4', 'type': 'bigint'}, {'name': 'BRAND_MAN 2 - BRAND 5', 'type': 'bigint'}, {'name': 'BRAND_MAN 2 - OTHER BRANDS', 'type': 'bigint'}, {'name': 'BRAND_MAN 3 - BRAND 1', 'type': 'bigint'}, {'name': 'BRAND_MAN 3 - BRAND 2', 'type': 'bigint'}, {'name': 'BRAND_MAN 3 - BRAND 3', 'type': 'bigint'}, {'name': 'BRAND_MAN 3 - BRAND 4', 'type': 'bigint'}, {'name': 'BRAND_MAN 3 - BRAND 5', 'type': 'bigint'}, {'name': 'BRAND_MAN 3 - OTHER BRANDS', 'type': 'bigint'}, {'name': 'BRAND_MAN 4 - BRAND 1', 'type': 'bigint'}, {'name': 'BRAND_MAN 5 - BRAND 1', 'type': 'bigint'}, {'name': 'BRAND_MAN 5 - BRAND 2', 'type': 'bigint'}, {'name': 'BRAND_MAN 5 - OTHER BRANDS', 'type': 'bigint'}, {'name': 'BRAND_MAN 6 - BRAND 1', 'type': 'bigint'}, {'name': 'BRAND_OTHER MAN - OTHER BRANDS', 'type': 'bigint'}, {'name': 'PACKAGING_CAN', 'type': 'bigint'}, {'name': 'PACKAGING_CRISTAL BOTTLE', 'type': 'bigint'}, {'name': 'PACKAGING_OTHER', 'type': 'bigint'}, {'name': 'PACKAGING_PET', 'type': 'bigint'}], 'userModified': False}\n",
    "\n",
    "ml_dataset_handle = dataiku.Dataset('Sectors_stores_joined')\n",
    "ml_dataset_handle.set_preparation_steps(preparation_steps, preparation_output_schema)\n",
    "%time ml_dataset = ml_dataset_handle.get_dataframe(limit = 6000000)\n",
    "\n",
    "print ('Base data has %i rows and %i columns' % (ml_dataset.shape[0], ml_dataset.shape[1]))\n",
    "# Five first records\",\n",
    "ml_dataset.head(5)"
   ]
  },
  {
   "cell_type": "markdown",
   "metadata": {},
   "source": [
    "#### Initial data management"
   ]
  },
  {
   "cell_type": "markdown",
   "metadata": {},
   "source": [
    "The preprocessing aims at making the dataset compatible with modeling.\n",
    "At the end of this step, we will have a matrix of float numbers, with no missing values.\n",
    "We'll use the features and the preprocessing steps defined in Models.\n",
    "\n",
    "Let's only keep selected features"
   ]
  },
  {
   "cell_type": "code",
   "execution_count": 0,
   "metadata": {},
   "outputs": [],
   "source": [
    "ml_dataset = ml_dataset[['Sectors', 'SEGMENT_CELIACS', 'SEGMENT_WITHOUT ALCOHOL', 'precio_real_unidades', 'ventas_valor', 'SEGMENT_NATIONAL', 'Channel', 'PACKAGING_OTHER', 'SEGMENT_IMPORT PREMIUM', 'ventas_unidades', 'PACKAGING_PET', 'PACKAGING_CAN', 'SEGMENT_ZERO ALCOHOL', 'SEGMENT_EXTRA', 'ventas_volumen', 'precio_real_volumen', 'SEGMENT_IMPORT SPECIAL', 'SEGMENT_BLACK', 'SEGMENT_ARTISANS', 'SEGMENT_FLAVOURED', 'PACKAGING_CRISTAL BOTTLE']]"
   ]
  },
  {
   "cell_type": "markdown",
   "metadata": {},
   "source": [
    "Let's first coerce categorical columns into unicode, numerical features into floats."
   ]
  },
  {
   "cell_type": "code",
   "execution_count": 0,
   "metadata": {},
   "outputs": [],
   "source": [
    "# astype('unicode') does not work as expected\n",
    "\n",
    "def coerce_to_unicode(x):\n",
    "    if sys.version_info < (3, 0):\n",
    "        if isinstance(x, str):\n",
    "            return unicode(x,'utf-8')\n",
    "        else:\n",
    "            return unicode(x)\n",
    "    else:\n",
    "        return str(x)\n",
    "\n",
    "\n",
    "categorical_features = ['Sectors', 'Channel']\n",
    "numerical_features = ['SEGMENT_CELIACS', 'SEGMENT_WITHOUT ALCOHOL', 'precio_real_unidades', 'ventas_valor', 'SEGMENT_NATIONAL', 'PACKAGING_OTHER', 'SEGMENT_IMPORT PREMIUM', 'ventas_unidades', 'PACKAGING_PET', 'PACKAGING_CAN', 'SEGMENT_ZERO ALCOHOL', 'SEGMENT_EXTRA', 'ventas_volumen', 'precio_real_volumen', 'SEGMENT_IMPORT SPECIAL', 'SEGMENT_BLACK', 'SEGMENT_ARTISANS', 'SEGMENT_FLAVOURED', 'PACKAGING_CRISTAL BOTTLE']\n",
    "text_features = []\n",
    "from dataiku.doctor.utils import datetime_to_epoch\n",
    "for feature in categorical_features:\n",
    "    ml_dataset[feature] = ml_dataset[feature].apply(coerce_to_unicode)\n",
    "for feature in text_features:\n",
    "    ml_dataset[feature] = ml_dataset[feature].apply(coerce_to_unicode)\n",
    "for feature in numerical_features:\n",
    "    if ml_dataset[feature].dtype == np.dtype('M8[ns]') or (hasattr(ml_dataset[feature].dtype, 'base') and ml_dataset[feature].dtype.base == np.dtype('M8[ns]')):\n",
    "        ml_dataset[feature] = datetime_to_epoch(ml_dataset[feature])\n",
    "    else:\n",
    "        ml_dataset[feature] = ml_dataset[feature].astype('double')"
   ]
  },
  {
   "cell_type": "markdown",
   "metadata": {},
   "source": [
    "Let's copy our dataset to keep it for eventual profiling at the end."
   ]
  },
  {
   "cell_type": "code",
   "execution_count": 0,
   "metadata": {},
   "outputs": [],
   "source": [
    "# train dataset will be the one on which we will apply ml technics\n",
    "train = ml_dataset.copy()"
   ]
  },
  {
   "cell_type": "markdown",
   "metadata": {},
   "source": [
    "#### Features preprocessing"
   ]
  },
  {
   "cell_type": "markdown",
   "metadata": {},
   "source": [
    "The first thing to do at the features level is to handle the missing values.\n",
    "Let's reuse the settings defined in the model"
   ]
  },
  {
   "cell_type": "code",
   "execution_count": 0,
   "metadata": {},
   "outputs": [],
   "source": [
    "drop_rows_when_missing = []\n",
    "impute_when_missing = [{'feature': 'SEGMENT_CELIACS', 'impute_with': 'MEAN'}, {'feature': 'SEGMENT_WITHOUT ALCOHOL', 'impute_with': 'MEAN'}, {'feature': 'precio_real_unidades', 'impute_with': 'MEAN'}, {'feature': 'ventas_valor', 'impute_with': 'MEAN'}, {'feature': 'SEGMENT_NATIONAL', 'impute_with': 'MEAN'}, {'feature': 'PACKAGING_OTHER', 'impute_with': 'MEAN'}, {'feature': 'SEGMENT_IMPORT PREMIUM', 'impute_with': 'MEAN'}, {'feature': 'ventas_unidades', 'impute_with': 'MEAN'}, {'feature': 'PACKAGING_PET', 'impute_with': 'MEAN'}, {'feature': 'PACKAGING_CAN', 'impute_with': 'MEAN'}, {'feature': 'SEGMENT_ZERO ALCOHOL', 'impute_with': 'MEAN'}, {'feature': 'SEGMENT_EXTRA', 'impute_with': 'MEAN'}, {'feature': 'ventas_volumen', 'impute_with': 'MEAN'}, {'feature': 'precio_real_volumen', 'impute_with': 'MEAN'}, {'feature': 'SEGMENT_IMPORT SPECIAL', 'impute_with': 'MEAN'}, {'feature': 'SEGMENT_BLACK', 'impute_with': 'MEAN'}, {'feature': 'SEGMENT_ARTISANS', 'impute_with': 'MEAN'}, {'feature': 'SEGMENT_FLAVOURED', 'impute_with': 'MEAN'}, {'feature': 'PACKAGING_CRISTAL BOTTLE', 'impute_with': 'MEAN'}]\n",
    "\n",
    "# Features for which we drop rows with missing values\"\n",
    "for feature in drop_rows_when_missing:\n",
    "    train = train[train[feature].notnull()]\n",
    "\n",
    "    print ('Dropped missing records in %s' % feature)\n",
    "\n",
    "# Features for which we impute missing values\"\n",
    "for feature in impute_when_missing:\n",
    "    if feature['impute_with'] == 'MEAN':\n",
    "        v = train[feature['feature']].mean()\n",
    "    elif feature['impute_with'] == 'MEDIAN':\n",
    "        v = train[feature['feature']].median()\n",
    "    elif feature['impute_with'] == 'CREATE_CATEGORY':\n",
    "        v = 'NULL_CATEGORY'\n",
    "    elif feature['impute_with'] == 'MODE':\n",
    "        v = train[feature['feature']].value_counts().index[0]\n",
    "    elif feature['impute_with'] == 'CONSTANT':\n",
    "        v = feature['value']\n",
    "    train[feature['feature']] = train[feature['feature']].fillna(v)\n",
    "\n",
    "    print ('Imputed missing values in feature %s with value %s' % (feature['feature'], coerce_to_unicode(v)))"
   ]
  },
  {
   "cell_type": "markdown",
   "metadata": {},
   "source": [
    "We can now handle the categorical features (still using the settings defined in Models):"
   ]
  },
  {
   "cell_type": "markdown",
   "metadata": {},
   "source": [
    "Let's dummy-encode the following features.\n",
    "A binary column is created for each of the 100 most frequent values."
   ]
  },
  {
   "cell_type": "code",
   "execution_count": 0,
   "metadata": {},
   "outputs": [],
   "source": [
    "LIMIT_DUMMIES = 100\n",
    "\n",
    "categorical_to_dummy_encode = ['Sectors', 'Channel']\n",
    "\n",
    "# Only keep the top 100 values\n",
    "def select_dummy_values(train, features):\n",
    "    dummy_values = {}\n",
    "    for feature in categorical_to_dummy_encode:\n",
    "        values = [\n",
    "            value\n",
    "            for (value, _) in Counter(train[feature]).most_common(LIMIT_DUMMIES)\n",
    "        ]\n",
    "        dummy_values[feature] = values\n",
    "    return dummy_values\n",
    "\n",
    "DUMMY_VALUES = select_dummy_values(train, categorical_to_dummy_encode)\n",
    "\n",
    "def dummy_encode_dataframe(df):\n",
    "    for (feature, dummy_values) in DUMMY_VALUES.items():\n",
    "        for dummy_value in dummy_values:\n",
    "            dummy_name = u'%s_value_%s' % (feature, coerce_to_unicode(dummy_value))\n",
    "            df[dummy_name] = (df[feature] == dummy_value).astype(float)\n",
    "        del df[feature]\n",
    "        print ('Dummy-encoded feature %s' % feature)\n",
    "\n",
    "dummy_encode_dataframe(train)"
   ]
  },
  {
   "cell_type": "markdown",
   "metadata": {},
   "source": [
    "Let's rescale numerical features"
   ]
  },
  {
   "cell_type": "code",
   "execution_count": 0,
   "metadata": {},
   "outputs": [],
   "source": [
    "rescale_features = {'SEGMENT_CELIACS': 'AVGSTD', 'SEGMENT_WITHOUT ALCOHOL': 'AVGSTD', 'precio_real_unidades': 'AVGSTD', 'ventas_valor': 'AVGSTD', 'SEGMENT_NATIONAL': 'AVGSTD', 'PACKAGING_OTHER': 'AVGSTD', 'SEGMENT_IMPORT PREMIUM': 'AVGSTD', 'ventas_unidades': 'AVGSTD', 'PACKAGING_PET': 'AVGSTD', 'PACKAGING_CAN': 'AVGSTD', 'SEGMENT_ZERO ALCOHOL': 'AVGSTD', 'SEGMENT_EXTRA': 'AVGSTD', 'ventas_volumen': 'AVGSTD', 'precio_real_volumen': 'AVGSTD', 'SEGMENT_IMPORT SPECIAL': 'AVGSTD', 'SEGMENT_BLACK': 'AVGSTD', 'SEGMENT_ARTISANS': 'AVGSTD', 'SEGMENT_FLAVOURED': 'AVGSTD', 'PACKAGING_CRISTAL BOTTLE': 'AVGSTD'}\n",
    "for (feature_name, rescale_method) in rescale_features.items():\n",
    "    if rescale_method == 'MINMAX':\n",
    "        _min = train[feature_name].min()\n",
    "        _max = train[feature_name].max()\n",
    "        scale = _max - _min\n",
    "        shift = _min\n",
    "    else:\n",
    "        shift = train[feature_name].mean()\n",
    "        scale = train[feature_name].std()\n",
    "    if scale == 0.:\n",
    "        del train[feature_name]\n",
    "\n",
    "        print ('Feature %s was dropped because it has no variance' % feature_name)\n",
    "    else:\n",
    "        print ('Rescaled %s' % feature_name)\n",
    "        train[feature_name] = (train[feature_name] - shift).astype(np.float64) / scale"
   ]
  },
  {
   "cell_type": "markdown",
   "metadata": {},
   "source": [
    "Removing outliers"
   ]
  },
  {
   "cell_type": "code",
   "execution_count": 0,
   "metadata": {},
   "outputs": [],
   "source": [
    "# Remove outliers from train set\n",
    "from dataiku.doctor.preprocessing.dataframe_preprocessing import detect_outliers\n",
    "\n",
    "outliers = detect_outliers(train, 0.9, 3678, 0.01)\n",
    "train = train[~outliers]\n",
    "\n",
    "print (\"%s outliers found\" % (outliers.sum()))"
   ]
  },
  {
   "cell_type": "markdown",
   "metadata": {},
   "source": [
    "#### Modeling"
   ]
  },
  {
   "cell_type": "code",
   "execution_count": 0,
   "metadata": {},
   "outputs": [],
   "source": [
    "from sklearn.cluster import KMeans\n",
    "clustering_model = KMeans(n_clusters=7)"
   ]
  },
  {
   "cell_type": "markdown",
   "metadata": {},
   "source": [
    "We can finally cluster our dataset!"
   ]
  },
  {
   "cell_type": "code",
   "execution_count": 0,
   "metadata": {},
   "outputs": [],
   "source": [
    "%time clusters = clustering_model.fit_predict(train)"
   ]
  },
  {
   "cell_type": "markdown",
   "metadata": {},
   "source": [
    "Build up our result dataset"
   ]
  },
  {
   "cell_type": "markdown",
   "metadata": {},
   "source": [
    "#### Results"
   ]
  },
  {
   "cell_type": "markdown",
   "metadata": {},
   "source": [
    "Inertia"
   ]
  },
  {
   "cell_type": "code",
   "execution_count": 0,
   "metadata": {},
   "outputs": [],
   "source": [
    "print (clustering_model.inertia_)"
   ]
  },
  {
   "cell_type": "markdown",
   "metadata": {},
   "source": [
    "Silhouette"
   ]
  },
  {
   "cell_type": "code",
   "execution_count": 0,
   "metadata": {},
   "outputs": [],
   "source": [
    "from sklearn.metrics import silhouette_score\n",
    "silhouette = silhouette_score(train.values, clusters, metric='euclidean', sample_size=2000)\n",
    "print (\"Silhouette score :\", silhouette)"
   ]
  },
  {
   "cell_type": "markdown",
   "metadata": {},
   "source": [
    "Join our original dataset with the cluster labels we found."
   ]
  },
  {
   "cell_type": "code",
   "execution_count": 0,
   "metadata": {},
   "outputs": [],
   "source": [
    "final = train.join(pd.Series(clusters, index=train.index, name='cluster'))\n",
    "final['cluster'] = final['cluster'].map(lambda cluster_id: 'cluster' + str(cluster_id))"
   ]
  },
  {
   "cell_type": "markdown",
   "metadata": {},
   "source": [
    "Compute the cluster sizes"
   ]
  },
  {
   "cell_type": "code",
   "execution_count": 0,
   "metadata": {},
   "outputs": [],
   "source": [
    "size = pd.DataFrame({'size': final['cluster'].value_counts()})\n",
    "size.head()"
   ]
  },
  {
   "cell_type": "code",
   "execution_count": 0,
   "metadata": {},
   "outputs": [],
   "source": [
    "size"
   ]
  },
  {
   "cell_type": "code",
   "execution_count": 0,
   "metadata": {},
   "outputs": [],
   "source": [
    "final"
   ]
  },
  {
   "cell_type": "code",
   "execution_count": 0,
   "metadata": {},
   "outputs": [],
   "source": [
    "final['cluster']"
   ]
  },
  {
   "cell_type": "code",
   "execution_count": 0,
   "metadata": {},
   "outputs": [],
   "source": [
    "# Assuming 'Unnamed: 0' is the common key column\n",
    "merged_dataset = ml_dataset.merge(final[['Unnamed: 0', 'cluster']], on='Unnamed: 0', how='left')"
   ]
  },
  {
   "cell_type": "markdown",
   "metadata": {},
   "source": [
    "Draw a nice scatter plot"
   ]
  },
  {
   "cell_type": "code",
   "execution_count": 0,
   "metadata": {},
   "outputs": [],
   "source": [
    "axis_x = train.columns[0]   # change me\n",
    "axis_y = train.columns[1]  # change me\n",
    "\n",
    "from ggplot import ggplot, aes, geom_point\n",
    "print(ggplot(aes(axis_x, axis_y, colour='cluster'), final) + geom_point())"
   ]
  },
  {
   "cell_type": "markdown",
   "metadata": {},
   "source": [
    "That's it. It's now up to you to tune your preprocessing, your algo, and your analysis !"
   ]
  }
 ],
 "metadata": {
  "associatedRecipe": "recipe_from_notebook_brands_personas",
  "createdOn": 1689173267361,
  "creator": "admin",
  "customFields": {},
  "kernelspec": {
   "display_name": "Python 3",
   "language": "python",
   "name": "python3"
  },
  "modifiedBy": "admin",
  "tags": [
   "recipe-editor"
  ],
  "versionNumber": 1
 },
 "nbformat": 4,
 "nbformat_minor": 0
}
